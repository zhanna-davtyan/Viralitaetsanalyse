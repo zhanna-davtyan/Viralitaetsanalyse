{
 "cells": [
  {
   "cell_type": "code",
   "execution_count": 2,
   "id": "8e7a58ce",
   "metadata": {},
   "outputs": [
    {
<<<<<<< HEAD
     "name": "stdout",
     "output_type": "stream",
     "text": [
      "Initialisiere Instaloader...\n",
      "Session-Datei nicht gefunden. Starte interaktiven Login...\n",
      "Saved session to ./projekt_algorithmen.\n",
      "Login erfolgreich. Session für zukünftige Starts gespeichert.\n",
      "\n",
      "Starte Verarbeitung für Profil: spacex\n",
      "Profil 'spacex' hat 16974206 Follower.\n"
     ]
    },
    {
     "name": "stderr",
     "output_type": "stream",
     "text": [
      "JSON Query to graphql/query: 401 Unauthorized - \"fail\" status, message \"Please wait a few minutes before you try again.\" when accessing https://www.instagram.com/graphql/query [retrying; skip with ^C]\n",
      "JSON Query to graphql/query: 401 Unauthorized - \"fail\" status, message \"Please wait a few minutes before you try again.\" when accessing https://www.instagram.com/graphql/query?variables=%7B%22data%22%3A%7B%22count%22%3A12%2C%22include_relationship_info%22%3Atrue%2C%22latest_besties_reel_media%22%3Atrue%2C%22latest_reel_media%22%3Atrue%7D%2C%22username%22%3A%22spacex%22%2C%22__relay_internal__pv__PolarisFeedShareMenurelayprovider%22%3Afalse%7D&doc_id=7898261790222653&server_timestamps=true [retrying; skip with ^C]\n"
     ]
    },
    {
     "name": "stdout",
     "output_type": "stream",
     "text": [
      "Fehler bei der Verbindung mit Instagram: JSON Query to graphql/query: 401 Unauthorized - \"fail\" status, message \"Please wait a few minutes before you try again.\" when accessing https://www.instagram.com/graphql/query?variables=%7B%22data%22%3A%7B%22count%22%3A12%2C%22include_relationship_info%22%3Atrue%2C%22latest_besties_reel_media%22%3Atrue%2C%22latest_reel_media%22%3Atrue%7D%2C%22username%22%3A%22spacex%22%2C%22__relay_internal__pv__PolarisFeedShareMenurelayprovider%22%3Afalse%7D&doc_id=7898261790222653&server_timestamps=true\n",
      "\n",
      "Keine Metadaten zum Speichern vorhanden.\n",
      "\n",
      "Alle Aufgaben abgeschlossen.\n"
=======
     "ename": "ModuleNotFoundError",
     "evalue": "No module named 'pandas'",
     "output_type": "error",
     "traceback": [
      "\u001b[31m---------------------------------------------------------------------------\u001b[39m",
      "\u001b[31mModuleNotFoundError\u001b[39m                       Traceback (most recent call last)",
      "\u001b[36mCell\u001b[39m\u001b[36m \u001b[39m\u001b[32mIn[2]\u001b[39m\u001b[32m, line 1\u001b[39m\n\u001b[32m----> \u001b[39m\u001b[32m1\u001b[39m \u001b[38;5;28;01mimport\u001b[39;00m\u001b[38;5;250m \u001b[39m\u001b[34;01minstaloader\u001b[39;00m\n\u001b[32m      2\u001b[39m \u001b[38;5;28;01mimport\u001b[39;00m\u001b[38;5;250m \u001b[39m\u001b[34;01mdatetime\u001b[39;00m\n\u001b[32m      3\u001b[39m \u001b[38;5;28;01mfrom\u001b[39;00m\u001b[38;5;250m \u001b[39m\u001b[34;01mitertools\u001b[39;00m\u001b[38;5;250m \u001b[39m\u001b[38;5;28;01mimport\u001b[39;00m takewhile\n",
      "\u001b[36mFile \u001b[39m\u001b[32m~/Desktop/Roadmap/Algorithm_Project/Viralitaetsanalyse-main/instaloader.py:6\u001b[39m\n\u001b[32m      4\u001b[39m \u001b[38;5;28;01mimport\u001b[39;00m\u001b[38;5;250m \u001b[39m\u001b[34;01mtime\u001b[39;00m\n\u001b[32m      5\u001b[39m \u001b[38;5;28;01mimport\u001b[39;00m\u001b[38;5;250m \u001b[39m\u001b[34;01mrandom\u001b[39;00m\n\u001b[32m----> \u001b[39m\u001b[32m6\u001b[39m \u001b[38;5;28;01mimport\u001b[39;00m\u001b[38;5;250m \u001b[39m\u001b[34;01mpandas\u001b[39;00m\u001b[38;5;250m \u001b[39m\u001b[38;5;28;01mas\u001b[39;00m\u001b[38;5;250m \u001b[39m\u001b[34;01mpd\u001b[39;00m  \n\u001b[32m      7\u001b[39m \u001b[38;5;28mprint\u001b[39m(pd.__version__)\n\u001b[32m      8\u001b[39m \u001b[38;5;66;03m# ============================================================================\u001b[39;00m\n\u001b[32m      9\u001b[39m \u001b[38;5;66;03m# KONFIGURATION\u001b[39;00m\n\u001b[32m     10\u001b[39m \u001b[38;5;66;03m# ============================================================================\u001b[39;00m\n",
      "\u001b[31mModuleNotFoundError\u001b[39m: No module named 'pandas'"
>>>>>>> e74b966 (tiktok scripting)
     ]
    }
   ],
   "source": [
    "import instaloader\n",
    "import datetime\n",
    "from itertools import takewhile\n",
    "import time\n",
    "import random\n",
    "import pandas as pd  \n",
    "\n",
    "# ============================================================================\n",
    "# KONFIGURATION\n",
    "# ============================================================================\n",
    "USERNAME = \"projekt_algorithmen\"\n",
    "TARGET_PROFILE = [\"spacex\"]\n",
    "SINCE = datetime.datetime(2024, 1, 1)  # Beispiel: Zeitraum angepasst für 2024\n",
    "UNTIL = datetime.datetime(2024, 12, 31)\n",
    "# ============================================================================\n",
    "# SKRIPT-LOGIK\n",
    "# ============================================================================\n",
    "\n",
    "# Eine leere Liste, um alle Metadaten zu sammeln\n",
    "all_metadata = []\n",
    "\n",
    "print(\"Initialisiere Instaloader...\")\n",
    "L = instaloader.Instaloader(\n",
    "    download_pictures=False, download_videos=True, download_video_thumbnails=False,\n",
    "    download_geotags=False, download_comments=False, save_metadata=False,\n",
    "    compress_json=False,\n",
    ")\n",
    "\n",
    "# --- Login-Prozess ---\n",
    "SESSION_FILE = f\"./{USERNAME}\"\n",
    "try:\n",
    "    L.load_session_from_file(USERNAME, SESSION_FILE)\n",
    "    print(f\"Login über Session-Datei für '{USERNAME}' erfolgreich.\")\n",
    "except FileNotFoundError:\n",
    "    print(\"Session-Datei nicht gefunden. Starte interaktiven Login...\")\n",
    "    try:\n",
    "        L.interactive_login(USERNAME)\n",
    "        L.save_session_to_file(SESSION_FILE)\n",
    "        print(f\"Login erfolgreich. Session für zukünftige Starts gespeichert.\")\n",
    "    except Exception as e:\n",
    "        print(f\"Ein Fehler beim Login ist aufgetreten: {e}\")\n",
    "        exit()\n",
    "\n",
    "# --- Download-Prozess ---\n",
    "for i, profil_name in enumerate(TARGET_PROFILE):\n",
    "    if i > 0:\n",
    "        wait_time = random.uniform(25, 60)\n",
    "        print(f\"Warte {wait_time:.0f} Sekunden vor dem nächsten Profil...\")\n",
    "        time.sleep(wait_time)\n",
    "\n",
    "    print(f\"\\nStarte Verarbeitung für Profil: {profil_name}\")\n",
    "    try:\n",
    "        profile = instaloader.Profile.from_username(L.context, profil_name)\n",
    "        # die Follower-Anzahl einmal pro Profil\n",
    "        profile_followers = profile.followers\n",
    "        print(f\"Profil '{profil_name}' hat {profile_followers} Follower.\")\n",
    "\n",
    "        posts_in_range = takewhile(lambda p: p.date_utc.replace(tzinfo=None) > UNTIL, profile.get_posts())\n",
    "\n",
    "        count = 0\n",
    "        for post in posts_in_range:\n",
    "            if post.date_utc.replace(tzinfo=None) < SINCE:\n",
    "                continue\n",
    "            \n",
    "            # Metadaten für jeden Post\n",
    "            post_metadata = {\n",
    "                'profile_name': profil_name,\n",
    "                'profile_followers': profile_followers,\n",
    "                'post_url': f\"https://www.instagram.com/p/{post.shortcode}/\",\n",
    "                'post_date_utc': post.date_utc,\n",
    "                'is_video': post.is_video,\n",
    "                'likes': post.likes,\n",
    "                'comments': post.comments,\n",
    "                'caption': post.caption,\n",
    "                'video_url': post.video_url if post.is_video else None\n",
    "            }\n",
    "            all_metadata.append(post_metadata)\n",
    "            \n",
    "            if post.is_video:\n",
    "                print(f\"  -> Lade Video herunter & sammle Metadaten (Likes: {post.likes})\")\n",
    "                L.download_post(post, target=profil_name)\n",
    "                count += 1\n",
    "                \n",
    "        if count == 0:\n",
    "            print(f\"Keine neuen Videos im definierten Zeitraum für '{profil_name}' gefunden.\")\n",
    "        else:\n",
    "            print(f\"Fertig! {count} Videos für '{profil_name}' heruntergeladen und Metadaten gesammelt.\")\n",
    "\n",
    "    except instaloader.ProfileNotExistsException:\n",
    "        print(f\"Fehler: Das Profil '{profil_name}' existiert nicht.\")\n",
    "    except instaloader.ConnectionException as e:\n",
    "        print(f\"Fehler bei der Verbindung mit Instagram: {e}\")\n",
    "    except Exception as e:\n",
    "        print(f\"Ein unerwarteter Fehler ist aufgetreten: {e}\")\n",
    "\n",
    "# --- Daten Speichern ---\n",
    "if all_metadata:\n",
    "    print(\"\\nSpeichere gesammelte Metadaten in 'metadata.csv'...\")\n",
    "    df = pd.DataFrame(all_metadata)\n",
    "    df.to_csv('metadata.csv', index=False, encoding='utf-8-sig')\n",
    "    print(\"Speichern der Metadaten abgeschlossen.\")\n",
    "else:\n",
    "    print(\"\\nKeine Metadaten zum Speichern vorhanden.\")\n",
    "\n",
    "print(\"\\nAlle Aufgaben abgeschlossen.\")"
   ]
  }
 ],
 "metadata": {
  "kernelspec": {
<<<<<<< HEAD
   "display_name": ".venv (3.13.3)",
=======
   "display_name": "Python 3",
>>>>>>> e74b966 (tiktok scripting)
   "language": "python",
   "name": "python3"
  },
  "language_info": {
   "codemirror_mode": {
    "name": "ipython",
    "version": 3
   },
   "file_extension": ".py",
   "mimetype": "text/x-python",
   "name": "python",
   "nbconvert_exporter": "python",
   "pygments_lexer": "ipython3",
   "version": "3.13.3"
  }
 },
 "nbformat": 4,
 "nbformat_minor": 5
}
